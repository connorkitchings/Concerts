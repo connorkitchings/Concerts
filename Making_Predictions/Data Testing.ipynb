{
 "cells": [
  {
   "cell_type": "code",
   "execution_count": 1,
   "metadata": {},
   "outputs": [],
   "source": [
    "import pandas as pd\n",
    "import os\n",
    "from datetime import datetime, timedelta\n",
    "from dateutil.relativedelta import relativedelta"
   ]
  },
  {
   "cell_type": "code",
   "execution_count": 2,
   "metadata": {},
   "outputs": [
    {
     "data": {
      "text/plain": [
       "'/Users/connorkitchings/Desktop/Repositories/Concerts/Making_Predictions'"
      ]
     },
     "execution_count": 2,
     "metadata": {},
     "output_type": "execute_result"
    }
   ],
   "source": [
    "os.getcwd()"
   ]
  },
  {
   "cell_type": "code",
   "execution_count": 3,
   "metadata": {},
   "outputs": [
    {
     "data": {
      "text/html": [
       "<div>\n",
       "<style scoped>\n",
       "    .dataframe tbody tr th:only-of-type {\n",
       "        vertical-align: middle;\n",
       "    }\n",
       "\n",
       "    .dataframe tbody tr th {\n",
       "        vertical-align: top;\n",
       "    }\n",
       "\n",
       "    .dataframe thead th {\n",
       "        text-align: right;\n",
       "    }\n",
       "</style>\n",
       "<table border=\"1\" class=\"dataframe\">\n",
       "  <thead>\n",
       "    <tr style=\"text-align: right;\">\n",
       "      <th></th>\n",
       "      <th>song_id</th>\n",
       "      <th>song</th>\n",
       "      <th>is_original</th>\n",
       "      <th>original_artist</th>\n",
       "      <th>debut_date</th>\n",
       "      <th>last_played</th>\n",
       "      <th>times_played</th>\n",
       "      <th>avg_show_gap</th>\n",
       "    </tr>\n",
       "  </thead>\n",
       "  <tbody>\n",
       "    <tr>\n",
       "      <th>0</th>\n",
       "      <td>400</td>\n",
       "      <td>Turned Clouds</td>\n",
       "      <td>1</td>\n",
       "      <td>Goose</td>\n",
       "      <td>2014-11-21</td>\n",
       "      <td>2024-11-13</td>\n",
       "      <td>108</td>\n",
       "      <td>6.65</td>\n",
       "    </tr>\n",
       "  </tbody>\n",
       "</table>\n",
       "</div>"
      ],
      "text/plain": [
       "   song_id           song  is_original original_artist  debut_date  \\\n",
       "0      400  Turned Clouds            1           Goose  2014-11-21   \n",
       "\n",
       "  last_played  times_played  avg_show_gap  \n",
       "0  2024-11-13           108          6.65  "
      ]
     },
     "execution_count": 3,
     "metadata": {},
     "output_type": "execute_result"
    }
   ],
   "source": [
    "songdata = pd.read_csv('/Users/connorkitchings/Desktop/Repositories/Concerts/Data/Goose/songdata.csv')\n",
    "songdata.head(1)"
   ]
  },
  {
   "cell_type": "code",
   "execution_count": 4,
   "metadata": {},
   "outputs": [
    {
     "data": {
      "text/html": [
       "<div>\n",
       "<style scoped>\n",
       "    .dataframe tbody tr th:only-of-type {\n",
       "        vertical-align: middle;\n",
       "    }\n",
       "\n",
       "    .dataframe tbody tr th {\n",
       "        vertical-align: top;\n",
       "    }\n",
       "\n",
       "    .dataframe thead th {\n",
       "        text-align: right;\n",
       "    }\n",
       "</style>\n",
       "<table border=\"1\" class=\"dataframe\">\n",
       "  <thead>\n",
       "    <tr style=\"text-align: right;\">\n",
       "      <th></th>\n",
       "      <th>show_number</th>\n",
       "      <th>show_id</th>\n",
       "      <th>show_date</th>\n",
       "      <th>venue_id</th>\n",
       "      <th>tour_id</th>\n",
       "      <th>show_order</th>\n",
       "    </tr>\n",
       "  </thead>\n",
       "  <tbody>\n",
       "    <tr>\n",
       "      <th>0</th>\n",
       "      <td>1</td>\n",
       "      <td>1605930400</td>\n",
       "      <td>2014-09-27</td>\n",
       "      <td>24</td>\n",
       "      <td>1</td>\n",
       "      <td>1</td>\n",
       "    </tr>\n",
       "  </tbody>\n",
       "</table>\n",
       "</div>"
      ],
      "text/plain": [
       "   show_number     show_id   show_date  venue_id  tour_id  show_order\n",
       "0            1  1605930400  2014-09-27        24        1           1"
      ]
     },
     "execution_count": 4,
     "metadata": {},
     "output_type": "execute_result"
    }
   ],
   "source": [
    "showdata = pd.read_csv('/Users/connorkitchings/Desktop/Repositories/Concerts/Data/Goose/showdata.csv')\n",
    "showdata.head(1)"
   ]
  },
  {
   "cell_type": "code",
   "execution_count": 5,
   "metadata": {},
   "outputs": [
    {
     "data": {
      "text/html": [
       "<div>\n",
       "<style scoped>\n",
       "    .dataframe tbody tr th:only-of-type {\n",
       "        vertical-align: middle;\n",
       "    }\n",
       "\n",
       "    .dataframe tbody tr th {\n",
       "        vertical-align: top;\n",
       "    }\n",
       "\n",
       "    .dataframe thead th {\n",
       "        text-align: right;\n",
       "    }\n",
       "</style>\n",
       "<table border=\"1\" class=\"dataframe\">\n",
       "  <thead>\n",
       "    <tr style=\"text-align: right;\">\n",
       "      <th></th>\n",
       "      <th>uniqueid</th>\n",
       "      <th>show_id</th>\n",
       "      <th>song_id</th>\n",
       "      <th>setnumber</th>\n",
       "      <th>position</th>\n",
       "      <th>tracktime</th>\n",
       "      <th>transition_id</th>\n",
       "      <th>isreprise</th>\n",
       "      <th>isjam</th>\n",
       "      <th>footnote</th>\n",
       "      <th>isjamchart</th>\n",
       "      <th>jamchart_notes</th>\n",
       "      <th>soundcheck</th>\n",
       "      <th>isverified</th>\n",
       "      <th>isrecommended</th>\n",
       "    </tr>\n",
       "  </thead>\n",
       "  <tbody>\n",
       "    <tr>\n",
       "      <th>0</th>\n",
       "      <td>40785</td>\n",
       "      <td>1613690131</td>\n",
       "      <td>871</td>\n",
       "      <td>1</td>\n",
       "      <td>1</td>\n",
       "      <td>NaN</td>\n",
       "      <td>1</td>\n",
       "      <td>0</td>\n",
       "      <td>0</td>\n",
       "      <td>John Scofield. First known version.</td>\n",
       "      <td>0</td>\n",
       "      <td>NaN</td>\n",
       "      <td>NaN</td>\n",
       "      <td>1.0</td>\n",
       "      <td>NaN</td>\n",
       "    </tr>\n",
       "  </tbody>\n",
       "</table>\n",
       "</div>"
      ],
      "text/plain": [
       "   uniqueid     show_id  song_id setnumber  position tracktime  transition_id  \\\n",
       "0     40785  1613690131      871         1         1       NaN              1   \n",
       "\n",
       "   isreprise  isjam                             footnote  isjamchart  \\\n",
       "0          0      0  John Scofield. First known version.           0   \n",
       "\n",
       "  jamchart_notes soundcheck  isverified  isrecommended  \n",
       "0            NaN        NaN         1.0            NaN  "
      ]
     },
     "execution_count": 5,
     "metadata": {},
     "output_type": "execute_result"
    }
   ],
   "source": [
    "setlistdata = pd.read_csv('/Users/connorkitchings/Desktop/Repositories/Concerts/Data/Goose/setlistdata.csv')\n",
    "setlistdata.head(1)"
   ]
  }
 ],
 "metadata": {
  "kernelspec": {
   "display_name": "base",
   "language": "python",
   "name": "python3"
  },
  "language_info": {
   "codemirror_mode": {
    "name": "ipython",
    "version": 3
   },
   "file_extension": ".py",
   "mimetype": "text/x-python",
   "name": "python",
   "nbconvert_exporter": "python",
   "pygments_lexer": "ipython3",
   "version": "3.10.9"
  }
 },
 "nbformat": 4,
 "nbformat_minor": 2
}
